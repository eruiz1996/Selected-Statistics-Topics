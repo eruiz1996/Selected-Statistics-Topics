{
 "cells": [
  {
   "cell_type": "markdown",
   "id": "f7d6764a-66bd-4b89-8f81-47740f2ef610",
   "metadata": {},
   "source": [
    "# A"
   ]
  },
  {
   "cell_type": "markdown",
   "id": "17b34080-0aa1-40aa-9a33-72f4c47cb09e",
   "metadata": {
    "tags": []
   },
   "source": [
    "## Teoría\n",
    "\n",
    "1. b\n",
    "2. a\n",
    "3. Primera forma normal.\n",
    "4. Los dos hacen filtros pero `HAVING` lo hace sobre grupos después del `GROUP BY`.\n",
    "5. c"
   ]
  },
  {
   "cell_type": "markdown",
   "id": "2f546a85-222b-4c3d-8e10-2a5c6563e167",
   "metadata": {},
   "source": [
    "## Práctica\n",
    "1.\n",
    "\n",
    "```SQL\n",
    "SELECT \n",
    "    nombre_materia, \n",
    "    AVG(calificacion) AS promedio_calificacion\n",
    "FROM \n",
    "    calificaciones\n",
    "WHERE \n",
    "    calificacion IS NOT NULL\n",
    "GROUP BY \n",
    "    nombre_materia\n",
    "ORDER BY \n",
    "    promedio_calificacion DESC;\n",
    "```\n",
    "\n",
    "2.\n",
    "\n",
    "```SQL\n",
    "SELECT \n",
    "    DISTINCT a.nombre, \n",
    "    a.apellido\n",
    "FROM \n",
    "    alumnos AS a\n",
    "INNER JOIN \n",
    "    calificaciones AS c \n",
    "USING(expediente)\n",
    "ORDER BY \n",
    "    a.apellido;\n",
    "```\n",
    "\n",
    "3.\n",
    "\n",
    "```SQL\n",
    "SELECT \n",
    "    a.nombre, \n",
    "    a.apellido, \n",
    "    MAX(c.calificacion) AS calificacion_maxima\n",
    "FROM \n",
    "    alumnos AS a\n",
    "LEFT JOIN \n",
    "\tcalificaciones AS c \n",
    "ON \n",
    "\ta.expediente = c.expediente\n",
    "WHERE \n",
    "\tc.calificacion IS NOT NULL\n",
    "GROUP BY \n",
    "\ta.expediente, a.nombre, a.apellido;\n",
    "```"
   ]
  },
  {
   "cell_type": "markdown",
   "id": "cf13fedb-74fd-4765-9413-633889457440",
   "metadata": {},
   "source": [
    "# B"
   ]
  },
  {
   "cell_type": "markdown",
   "id": "c40ea0b3-e324-4d74-99ef-04093a920731",
   "metadata": {
    "jp-MarkdownHeadingCollapsed": true,
    "tags": []
   },
   "source": [
    "## Teoría\n",
    "\n",
    "1. a\n",
    "2. Los dos hacen filtros pero `HAVING` lo hace sobre grupos después del `GROUP BY`.\n",
    "3. c\n",
    "4. a"
   ]
  },
  {
   "cell_type": "markdown",
   "id": "6dd8bc51-aee2-484c-8caa-a1601349930f",
   "metadata": {},
   "source": [
    "## Práctica\n",
    "1.\n",
    "\n",
    "```SQL\n",
    "SELECT\n",
    "\tAVG(edad) edad_promedio\n",
    "FROM\n",
    "\talumnos\n",
    "WHERE\n",
    "\tapellido LIKE '%ez';\n",
    "```\n",
    "\n",
    "2.\n",
    "\n",
    "```SQL\n",
    "SELECT \n",
    "    a.nombre, \n",
    "    a.apellido, \n",
    "    MAX(c.calificacion) AS calificacion_maxima\n",
    "FROM \n",
    "    alumnos AS a\n",
    "LEFT JOIN \n",
    "\tcalificaciones AS c \n",
    "ON \n",
    "\ta.expediente = c.expediente\n",
    "WHERE \n",
    "\tc.calificacion IS NOT NULL\n",
    "GROUP BY \n",
    "\ta.expediente, a.nombre, a.apellido;\n",
    "```\n",
    "\n",
    "3.\n",
    "\n",
    "```SQL\n",
    "SELECT \n",
    "\ta.nombre, \n",
    "\ta.apellido, \n",
    "\tc.nombre_materia, \n",
    "\tc.calificacion\n",
    "FROM \n",
    "\tcalificaciones AS c\n",
    "INNER JOIN \n",
    "\talumnos AS a \n",
    "USING(expediente)\n",
    "WHERE c.calificacion > (\n",
    "    SELECT AVG(calificacion)\n",
    "    FROM calificaciones\n",
    "    WHERE calificacion IS NOT NULL\n",
    ");\n",
    "```"
   ]
  },
  {
   "cell_type": "markdown",
   "id": "a74b7ae6-afde-49a9-bfa4-8d13a57bb6b3",
   "metadata": {},
   "source": [
    "# C"
   ]
  },
  {
   "cell_type": "markdown",
   "id": "756790ac-8172-470f-aefd-fbb8af73f284",
   "metadata": {
    "tags": []
   },
   "source": [
    "## Teoría\n",
    "\n",
    "1. Las claves primarias son únicas por tabla, esto para identificar así cada registro. Las claves foráneas sirven para relacionar las tablas entre sí.\n",
    "2. a\n",
    "3. c\n",
    "4. Se agrega un directorio llamado `obj` al área de preparación.\n",
    "5. d"
   ]
  },
  {
   "cell_type": "markdown",
   "id": "2adad3f5-5f6b-41a9-9775-c97f7bdb661c",
   "metadata": {},
   "source": [
    "## Práctica\n",
    "1.\n",
    "\n",
    "```SQL\n",
    "SELECT\n",
    "\tAVG(edad) edad_promedio\n",
    "FROM\n",
    "\talumnos\n",
    "WHERE\n",
    "\tapellido LIKE '%ez';\n",
    "```\n",
    "\n",
    "2.\n",
    "\n",
    "```SQL\n",
    "SELECT\n",
    "\tc.nombre_materia,\n",
    "\tCOUNT(a.expediente) AS num\n",
    "FROM\n",
    "\talumnos AS a\n",
    "INNER JOIN \n",
    "\tcalificaciones AS c\n",
    "USING(expediente)\n",
    "WHERE edad > 20\n",
    "GROUP BY nombre_materia\n",
    "ORDER BY num DESC;\n",
    "```\n",
    "\n",
    "3.\n",
    "\n",
    "```SQL\n",
    "SELECT\n",
    "\tnombre,\n",
    "\tSUM(calificacion) AS suma_calif\n",
    "FROM \n",
    "\talumnos\n",
    "INNER JOIN\n",
    "\tcalificaciones\n",
    "USING(expediente)\n",
    "WHERE \n",
    "\tnombre_materia = 'Matemáticas' AND calificacion IS NOT NULL\n",
    "GROUP BY nombre\n",
    "ORDER BY calificacion DESC\n",
    "LIMIT 1 OFFSET 1;\n",
    "```"
   ]
  }
 ],
 "metadata": {
  "kernelspec": {
   "display_name": "Python 3 (ipykernel)",
   "language": "python",
   "name": "python3"
  },
  "language_info": {
   "codemirror_mode": {
    "name": "ipython",
    "version": 3
   },
   "file_extension": ".py",
   "mimetype": "text/x-python",
   "name": "python",
   "nbconvert_exporter": "python",
   "pygments_lexer": "ipython3",
   "version": "3.9.13"
  }
 },
 "nbformat": 4,
 "nbformat_minor": 5
}
