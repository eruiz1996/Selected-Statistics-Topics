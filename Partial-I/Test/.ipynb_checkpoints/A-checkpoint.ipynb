{
 "cells": [
  {
   "cell_type": "markdown",
   "id": "195bbe91-cb9d-43a5-8d3f-166c3470ff77",
   "metadata": {},
   "source": [
    "# Teoría"
   ]
  },
  {
   "cell_type": "markdown",
   "id": "d802c14e-94ea-47d3-a083-16784950bef3",
   "metadata": {},
   "source": [
    "1. En el comando:\n",
    "\n",
    "```bash\n",
    "git commit -m \"mensaje\"\n",
    "```\n",
    "\n",
    "¿Para qué sirve la bandera `-m`\n",
    "\n",
    "a) Indica el nombre del archivo que se está comprometiendo.\n",
    "\n",
    "b) Especifica el mensaje del commit directamente desde la línea de comandos.\n",
    "\n",
    "c) Crea un commit sin revisar los cambios.\n",
    "\n",
    "d) Elimina archivos temporales antes de hacer el commit."
   ]
  },
  {
   "cell_type": "markdown",
   "id": "99010158-7bbb-4a1c-a622-0a14050a2351",
   "metadata": {},
   "source": [
    "2. ¿En qué casos se usan la 4ta y 5ta forma normal?\n",
    "\n",
    "a) Como excepciones o casos avanzados que van más allá de las primeras tres formas normales.\n",
    "\n",
    "b) Cuando una tabla tiene valores duplicados y claves primarias mal definidas.\n",
    "\n",
    "c) Cuando se necesita reducir el tamaño de la base de datos eliminando claves foráneas.\n",
    "\n",
    "d) Cuando se quiere aumentar la redundancia de datos para mejorar el rendimiento de consultas complejas."
   ]
  },
  {
   "cell_type": "markdown",
   "id": "56725b26-ca0d-435b-aade-10d8bff371cf",
   "metadata": {},
   "source": [
    "3. ¿En qué forma normal se eliminan los grupos repetidos?"
   ]
  },
  {
   "cell_type": "markdown",
   "id": "d96653f1-7a3d-4eaf-9851-50da64449b76",
   "metadata": {},
   "source": [
    "4. Explica la diferencia entre la cláusula `WHERE` y la cláusula `HAVING`."
   ]
  },
  {
   "cell_type": "markdown",
   "id": "90617bea-c6a2-4b0a-a995-ea005edb6c1f",
   "metadata": {},
   "source": [
    "5. Dado el siguiente query:\n",
    "\n",
    "```SQL\n",
    "SELECT \n",
    "    nombre, \n",
    "    salario\n",
    "FROM \n",
    "    empleados\n",
    "WHERE \n",
    "    salario > 30000\n",
    "ORDER BY \n",
    "    salario DESC;\n",
    "```\n",
    "\n",
    "¿Cuál es el orden de ejecución?\n",
    "\n",
    "a) `SELECT` -> `WHERE` -> `FROM` -> `ORDER BY`\n",
    "\n",
    "b) `WHERE` -> `FROM` -> `SELECT` -> `ORDER BY`\n",
    "\n",
    "c) `FROM` -> `WHERE` -> `SELECT` -> `ORDER BY`\n",
    "\n",
    "d) `FROM` -> `SELECT` -> `WHERE` -> `ORDER BY`"
   ]
  },
  {
   "cell_type": "markdown",
   "id": "7ddea64f-006e-45d2-9bf5-a21346ad475f",
   "metadata": {},
   "source": [
    "# Práctica"
   ]
  },
  {
   "cell_type": "markdown",
   "id": "7111d84a-03f5-457c-8a03-c8235377ea3f",
   "metadata": {},
   "source": [
    "1. Escribe un query para obtener el promedio de calificaciones por cada materia en la tabla calificaciones. Incluye solo aquellas materias que tienen al menos una calificación registrada. Ordena del mejor promedio al peor promedio."
   ]
  },
  {
   "cell_type": "markdown",
   "id": "0509fcd0-4ada-42c2-9264-f3ddac5ea5bd",
   "metadata": {},
   "source": [
    "2. Escribe un query que muestre el nombre y apellido de los alumnos que tienen al menos una calificación registrada. Ordena el resultado por apellido."
   ]
  },
  {
   "cell_type": "markdown",
   "id": "616fc824-19b4-4827-89cf-1e6426f11a19",
   "metadata": {},
   "source": [
    "3. Escribe una consulta que muestre el nombre, apellido y calificación máxima de cada alumno. Considera solo las materias en las que el alumno ha recibido calificación."
   ]
  }
 ],
 "metadata": {
  "kernelspec": {
   "display_name": "Python 3 (ipykernel)",
   "language": "python",
   "name": "python3"
  },
  "language_info": {
   "codemirror_mode": {
    "name": "ipython",
    "version": 3
   },
   "file_extension": ".py",
   "mimetype": "text/x-python",
   "name": "python",
   "nbconvert_exporter": "python",
   "pygments_lexer": "ipython3",
   "version": "3.9.13"
  }
 },
 "nbformat": 4,
 "nbformat_minor": 5
}
