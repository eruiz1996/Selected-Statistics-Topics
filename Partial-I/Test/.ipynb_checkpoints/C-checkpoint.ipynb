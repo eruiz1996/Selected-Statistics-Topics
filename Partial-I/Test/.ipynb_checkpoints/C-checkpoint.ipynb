{
 "cells": [
  {
   "cell_type": "markdown",
   "id": "195bbe91-cb9d-43a5-8d3f-166c3470ff77",
   "metadata": {},
   "source": [
    "# Teoría"
   ]
  },
  {
   "cell_type": "markdown",
   "id": "d1133d41-b30d-435a-97c2-8f4b728928cc",
   "metadata": {},
   "source": [
    "1. ¿Cuál es la diferencia entre una clave primaria y una clave foránea?"
   ]
  },
  {
   "cell_type": "markdown",
   "id": "48457880-c98a-4372-a149-68816f8ae7c8",
   "metadata": {},
   "source": [
    "2. ¿Qué peligro conlleva usar el siguiente comando?\n",
    "\n",
    "```SQL\n",
    "DELETE FROM my_table;\n",
    "```\n",
    "\n",
    "a) Elimina todas las filas de la tabla sin posibilidad de recuperación, a menos que exista un respaldo.\n",
    "\n",
    "b) Solo elimina las filas duplicadas, dejando el resto de los datos intactos.\n",
    "\n",
    "c) Modifica la estructura de la tabla eliminando todas las columnas.\n",
    "\n",
    "d) La sintaxis es incorrecta."
   ]
  },
  {
   "cell_type": "markdown",
   "id": "90617bea-c6a2-4b0a-a995-ea005edb6c1f",
   "metadata": {
    "tags": []
   },
   "source": [
    "3. Dado el siguiente query:\n",
    "\n",
    "```SQL\n",
    "SELECT \n",
    "    nombre, \n",
    "    salario\n",
    "FROM \n",
    "    empleados\n",
    "WHERE \n",
    "    salario > 30000\n",
    "ORDER BY \n",
    "    salario DESC;\n",
    "```\n",
    "\n",
    "¿Cuál es el orden de ejecución?\n",
    "\n",
    "a) `SELECT` -> `WHERE` -> `FROM` -> `ORDER BY`\n",
    "\n",
    "b) `WHERE` -> `FROM` -> `SELECT` -> `ORDER BY`\n",
    "\n",
    "c) `FROM` -> `WHERE` -> `SELECT` -> `ORDER BY`\n",
    "\n",
    "d) `FROM` -> `SELECT` -> `WHERE` -> `ORDER BY`"
   ]
  },
  {
   "cell_type": "markdown",
   "id": "dcbbd505-7f88-48ce-b2c2-6c9e15b38d45",
   "metadata": {},
   "source": [
    "4. ¿Qué se puede inferir del siguiente comando?\n",
    "\n",
    "```bash\n",
    "git add obj\n",
    "```"
   ]
  },
  {
   "cell_type": "markdown",
   "id": "fa103de3-d76b-4a76-8cbb-884eeb759172",
   "metadata": {},
   "source": [
    "5. ¿Cuál es la diferencia entre Git y GitHub?\n",
    "\n",
    "a) Git es un lenguaje de programación, mientras que GitHub es una biblioteca de software.\n",
    "\n",
    "b) Git es un sistema de gestión de bases de datos, mientras que GitHub es un editor de código.\n",
    "\n",
    "c) Git es un programa de diseño gráfico, mientras que GitHub es un sistema de control de versiones.\n",
    "\n",
    "d) Git es un sistema de control de versiones, mientras que GitHub es una plataforma para alojar y colaborar en proyectos de Git en línea."
   ]
  }
 ],
 "metadata": {
  "kernelspec": {
   "display_name": "Python 3 (ipykernel)",
   "language": "python",
   "name": "python3"
  },
  "language_info": {
   "codemirror_mode": {
    "name": "ipython",
    "version": 3
   },
   "file_extension": ".py",
   "mimetype": "text/x-python",
   "name": "python",
   "nbconvert_exporter": "python",
   "pygments_lexer": "ipython3",
   "version": "3.9.13"
  }
 },
 "nbformat": 4,
 "nbformat_minor": 5
}
