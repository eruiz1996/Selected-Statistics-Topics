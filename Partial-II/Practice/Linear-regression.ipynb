{
 "cells": [
  {
   "cell_type": "code",
   "execution_count": 1,
   "id": "045aa489-c6e2-4656-b7b8-76c01f24d349",
   "metadata": {},
   "outputs": [],
   "source": [
    "import numpy as np\n",
    "import matplotlib.pyplot as plt"
   ]
  },
  {
   "cell_type": "markdown",
   "id": "2d2b3d41-c9c1-4d2d-b4f6-c424de5f9da1",
   "metadata": {},
   "source": [
    "Data matrix"
   ]
  },
  {
   "cell_type": "code",
   "execution_count": 2,
   "id": "3a1bda79-d980-42dd-8646-a15925cab63f",
   "metadata": {},
   "outputs": [],
   "source": [
    "data = np.array([\n",
    "    [0.5, 7],\n",
    "    [1.5, 7],\n",
    "    [-2, 4.5],\n",
    "    [-0.5, 5.5],\n",
    "    [1.5, 9],\n",
    "    [5.5, 9]\n",
    "])"
   ]
  },
  {
   "cell_type": "code",
   "execution_count": 3,
   "id": "4976292f-fb7e-4d5f-ad68-c5ba511f271b",
   "metadata": {},
   "outputs": [
    {
     "data": {
      "text/plain": [
       "array([[ 0.5,  7. ],\n",
       "       [ 1.5,  7. ],\n",
       "       [-2. ,  4.5],\n",
       "       [-0.5,  5.5],\n",
       "       [ 1.5,  9. ],\n",
       "       [ 5.5,  9. ]])"
      ]
     },
     "execution_count": 3,
     "metadata": {},
     "output_type": "execute_result"
    }
   ],
   "source": [
    "data"
   ]
  },
  {
   "cell_type": "markdown",
   "id": "3b21ec29-1e7d-4ec5-80f2-aff9904fac2a",
   "metadata": {},
   "source": [
    "Features $X$"
   ]
  },
  {
   "cell_type": "code",
   "execution_count": 11,
   "id": "20602956-fa99-4c8b-a69c-fa2a74e05689",
   "metadata": {},
   "outputs": [
    {
     "name": "stdout",
     "output_type": "stream",
     "text": [
      "[[ 1.   0.5]\n",
      " [ 1.   1.5]\n",
      " [ 1.  -2. ]\n",
      " [ 1.  -0.5]\n",
      " [ 1.   1.5]\n",
      " [ 1.   5.5]]\n"
     ]
    }
   ],
   "source": [
    "X = np.ones(data.shape)\n",
    "X[:, 1] = data[:, 0]\n",
    "print(X)"
   ]
  },
  {
   "cell_type": "markdown",
   "id": "ed3659c1-82bc-4c4d-b36b-21c6f5e51335",
   "metadata": {},
   "source": [
    "Predictions $Y$"
   ]
  },
  {
   "cell_type": "code",
   "execution_count": 5,
   "id": "8cb91a7f-6e75-4d60-a853-9320d3b64714",
   "metadata": {},
   "outputs": [
    {
     "name": "stdout",
     "output_type": "stream",
     "text": [
      "[[7. ]\n",
      " [7. ]\n",
      " [4.5]\n",
      " [5.5]\n",
      " [9. ]\n",
      " [9. ]]\n"
     ]
    }
   ],
   "source": [
    "Y = data[:, 1].reshape(6,1)\n",
    "print(Y)"
   ]
  },
  {
   "cell_type": "markdown",
   "id": "aeb40cc5-5fc3-4023-a2f3-f5881cee312a",
   "metadata": {},
   "source": [
    "And if we don't use `reshape()`?"
   ]
  },
  {
   "cell_type": "code",
   "execution_count": 6,
   "id": "6b1bc844-ecc9-44ec-8701-e999af714018",
   "metadata": {},
   "outputs": [
    {
     "data": {
      "text/plain": [
       "array([7. , 7. , 4.5, 5.5, 9. , 9. ])"
      ]
     },
     "execution_count": 6,
     "metadata": {},
     "output_type": "execute_result"
    }
   ],
   "source": [
    "data[:, 1]"
   ]
  },
  {
   "cell_type": "code",
   "execution_count": 7,
   "id": "3660acab-ddb2-4c9f-a914-22eb7c5855df",
   "metadata": {},
   "outputs": [
    {
     "data": {
      "text/plain": [
       "(6,)"
      ]
     },
     "execution_count": 7,
     "metadata": {},
     "output_type": "execute_result"
    }
   ],
   "source": [
    "data[:, 1].shape"
   ]
  },
  {
   "cell_type": "markdown",
   "id": "c0a26c35-8245-4723-8cc2-350c3a9830e6",
   "metadata": {},
   "source": [
    "Apply the model"
   ]
  },
  {
   "cell_type": "code",
   "execution_count": 8,
   "id": "7c64b15c-4bbc-4cc4-8083-34a23eb872b7",
   "metadata": {},
   "outputs": [
    {
     "name": "stdout",
     "output_type": "stream",
     "text": [
      "Linear Regression:\n",
      "-------------------\n",
      "y = [6.33570505]+[0.61319534]x\n"
     ]
    }
   ],
   "source": [
    "B = np.linalg.inv(X.T @ X) @ X.T @ Y\n",
    "print('Linear Regression:', f'y = {B[0]}+{B[1]}x', sep='\\n-------------------\\n')"
   ]
  },
  {
   "cell_type": "markdown",
   "id": "2fe8098f-ca9e-4848-b408-3c857f09ef19",
   "metadata": {},
   "source": [
    "Create function base on the result"
   ]
  },
  {
   "cell_type": "code",
   "execution_count": 9,
   "id": "61864d5f-f235-494c-b649-cafa6cf42cef",
   "metadata": {},
   "outputs": [],
   "source": [
    "def f(x):\n",
    "    return B[0] + B[1] * x"
   ]
  },
  {
   "cell_type": "markdown",
   "id": "10ddf0fd-4ac7-4e2b-a72a-93fd1280f754",
   "metadata": {},
   "source": [
    "Graphic"
   ]
  },
  {
   "cell_type": "code",
   "execution_count": 10,
   "id": "938fcbef-8aa2-44f7-97f2-d9167c208451",
   "metadata": {},
   "outputs": [
    {
     "data": {
      "image/png": "[encoded data removed]",
      "text/plain": [
       "<Figure size 640x480 with 1 Axes>"
      ]
     },
     "metadata": {},
     "output_type": "display_data"
    }
   ],
   "source": [
    "# data\n",
    "plt.scatter(data[:,0], data[:, 1], label = 'data', color = 'blue')\n",
    "# x-range\n",
    "x = np.linspace(-3, 6, 100)\n",
    "# linear regression\n",
    "plt.plot(x, f(x), label = 'Regresión', color = 'red')\n",
    "plt.legend()\n",
    "plt.grid(True)\n",
    "plt.show()"
   ]
  }
 ],
 "metadata": {
  "kernelspec": {
   "display_name": "Python 3 (ipykernel)",
   "language": "python",
   "name": "python3"
  },
  "language_info": {
   "codemirror_mode": {
    "name": "ipython",
    "version": 3
   },
   "file_extension": ".py",
   "mimetype": "text/x-python",
   "name": "python",
   "nbconvert_exporter": "python",
   "pygments_lexer": "ipython3",
   "version": "3.9.13"
  }
 },
 "nbformat": 4,
 "nbformat_minor": 5
}
