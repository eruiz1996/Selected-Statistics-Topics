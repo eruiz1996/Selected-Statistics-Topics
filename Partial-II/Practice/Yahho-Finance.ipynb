{
 "cells": [
  {
   "cell_type": "markdown",
   "id": "4ccd9d0a-14ab-406b-8e31-f4c77e242324",
   "metadata": {},
   "source": [
    "# Market data\n",
    "To consult historical market data we can use [yahoo finance](https://pypi.org/project/yfinance/).\n",
    "\n",
    "Install with pip:\n",
    "\n",
    "```bash\n",
    "pip install yfinance\n",
    "```"
   ]
  },
  {
   "cell_type": "markdown",
   "id": "ac667153-256a-45bc-b947-eef366e6cbc4",
   "metadata": {},
   "source": [
    "## Google\n",
    "The `Ticker` object allows to access data of different companies by a symbol.\n",
    "\n",
    "To see the symbols go to [here](https://finance.yahoo.com/lookup/?guccounter=1&guce_referrer=aHR0cHM6Ly93d3cuZ29vZ2xlLmNvbS8&guce_referrer_sig=AQAAALuXWVw92dKctt1NEfqg9Jh8oAQEy3NeGJh-7J4-ASSygtJvtY-suqesylI3S-GoB8Kn_OybCiQWUiIsZ0hiFut75takVAQ8CH0324HasflzPjos1Eo65A_R1jRH_czAq_E03G-SeNsn2owsj7ScSK4uk0_oOy2vgswqziNJnJYm)"
   ]
  },
  {
   "cell_type": "code",
   "execution_count": 1,
   "id": "e71022fe-4e00-4691-971e-0226ab278c62",
   "metadata": {},
   "outputs": [
    {
     "data": {
      "text/plain": [
       "yfinance.Ticker object <GOOGL>"
      ]
     },
     "execution_count": 1,
     "metadata": {},
     "output_type": "execute_result"
    }
   ],
   "source": [
    "# yahoo finance module\n",
    "import yfinance as yf\n",
    "\n",
    "# define ticker\n",
    "ticker_symbol = \"GOOGL\"\n",
    "# search the GOOGLE stock data\n",
    "google_stock = yf.Ticker(ticker_symbol)\n",
    "google_stock"
   ]
  },
  {
   "cell_type": "code",
   "execution_count": 3,
   "id": "a496a2cc-80b9-49a7-9120-22c16f321902",
   "metadata": {},
   "outputs": [
    {
     "name": "stdout",
     "output_type": "stream",
     "text": [
      "                                 Open        High         Low       Close  \\\n",
      "Date                                                                        \n",
      "2023-11-07 00:00:00-05:00  130.387147  131.584180  129.559196  130.646500   \n",
      "2023-11-08 00:00:00-05:00  130.646497  131.883440  130.456964  131.514343   \n",
      "2023-11-09 00:00:00-05:00  131.634057  132.222596  129.748726  129.918304   \n",
      "2023-11-10 00:00:00-05:00  129.778657  132.471985  129.090359  132.262497   \n",
      "2023-11-13 00:00:00-05:00  131.454486  132.262483  130.925796  131.763718   \n",
      "\n",
      "                             Volume  Dividends  Stock Splits  \n",
      "Date                                                          \n",
      "2023-11-07 00:00:00-05:00  29757300        0.0           0.0  \n",
      "2023-11-08 00:00:00-05:00  26425800        0.0           0.0  \n",
      "2023-11-09 00:00:00-05:00  23747800        0.0           0.0  \n",
      "2023-11-10 00:00:00-05:00  26913300        0.0           0.0  \n",
      "2023-11-13 00:00:00-05:00  18324800        0.0           0.0  \n"
     ]
    }
   ],
   "source": [
    "# get historical market data\n",
    "google_stock_data = google_stock.history(period=\"1y\")\n",
    "print(google_stock_data.head())"
   ]
  },
  {
   "cell_type": "markdown",
   "id": "57f6e70d-10b2-46cd-9169-4a1fb32b5afe",
   "metadata": {},
   "source": [
    "**Note**: You can change the `period` parameter (e.g., `\"1d\"`, `\"5d\"`, `\"1mo\"`, `\"1y\"`)"
   ]
  },
  {
   "cell_type": "code",
   "execution_count": 25,
   "id": "c482e654-901e-452f-a0fa-c7730fc94923",
   "metadata": {},
   "outputs": [
    {
     "data": {
      "text/plain": [
       "DatetimeIndex(['2023-11-07 00:00:00-05:00', '2023-11-08 00:00:00-05:00',\n",
       "               '2023-11-09 00:00:00-05:00', '2023-11-10 00:00:00-05:00',\n",
       "               '2023-11-13 00:00:00-05:00', '2023-11-14 00:00:00-05:00',\n",
       "               '2023-11-15 00:00:00-05:00', '2023-11-16 00:00:00-05:00',\n",
       "               '2023-11-17 00:00:00-05:00', '2023-11-20 00:00:00-05:00',\n",
       "               ...\n",
       "               '2024-10-24 00:00:00-04:00', '2024-10-25 00:00:00-04:00',\n",
       "               '2024-10-28 00:00:00-04:00', '2024-10-29 00:00:00-04:00',\n",
       "               '2024-10-30 00:00:00-04:00', '2024-10-31 00:00:00-04:00',\n",
       "               '2024-11-01 00:00:00-04:00', '2024-11-04 00:00:00-05:00',\n",
       "               '2024-11-05 00:00:00-05:00', '2024-11-06 00:00:00-05:00'],\n",
       "              dtype='datetime64[ns, America/New_York]', name='Date', length=252, freq=None)"
      ]
     },
     "execution_count": 25,
     "metadata": {},
     "output_type": "execute_result"
    }
   ],
   "source": [
    "google_stock_data.index"
   ]
  },
  {
   "cell_type": "markdown",
   "id": "661ef198-abf0-4a8e-98c7-22100d2c3878",
   "metadata": {},
   "source": [
    "## Change frequency"
   ]
  },
  {
   "cell_type": "code",
   "execution_count": 26,
   "id": "0690deea-b9ed-4c6a-ac5c-63883a3f4a29",
   "metadata": {},
   "outputs": [
    {
     "data": {
      "text/html": [
       "<div>\n",
       "<style scoped>\n",
       "    .dataframe tbody tr th:only-of-type {\n",
       "        vertical-align: middle;\n",
       "    }\n",
       "\n",
       "    .dataframe tbody tr th {\n",
       "        vertical-align: top;\n",
       "    }\n",
       "\n",
       "    .dataframe thead th {\n",
       "        text-align: right;\n",
       "    }\n",
       "</style>\n",
       "<table border=\"1\" class=\"dataframe\">\n",
       "  <thead>\n",
       "    <tr style=\"text-align: right;\">\n",
       "      <th></th>\n",
       "      <th>Open</th>\n",
       "      <th>High</th>\n",
       "      <th>Low</th>\n",
       "      <th>Close</th>\n",
       "      <th>Volume</th>\n",
       "      <th>Dividends</th>\n",
       "      <th>Stock Splits</th>\n",
       "    </tr>\n",
       "    <tr>\n",
       "      <th>Date</th>\n",
       "      <th></th>\n",
       "      <th></th>\n",
       "      <th></th>\n",
       "      <th></th>\n",
       "      <th></th>\n",
       "      <th></th>\n",
       "      <th></th>\n",
       "    </tr>\n",
       "  </thead>\n",
       "  <tbody>\n",
       "    <tr>\n",
       "      <th>2023-12-31 00:00:00-05:00</th>\n",
       "      <td>NaN</td>\n",
       "      <td>NaN</td>\n",
       "      <td>NaN</td>\n",
       "      <td>NaN</td>\n",
       "      <td>NaN</td>\n",
       "      <td>NaN</td>\n",
       "      <td>NaN</td>\n",
       "    </tr>\n",
       "    <tr>\n",
       "      <th>2024-03-31 00:00:00-04:00</th>\n",
       "      <td>NaN</td>\n",
       "      <td>NaN</td>\n",
       "      <td>NaN</td>\n",
       "      <td>NaN</td>\n",
       "      <td>NaN</td>\n",
       "      <td>NaN</td>\n",
       "      <td>NaN</td>\n",
       "    </tr>\n",
       "    <tr>\n",
       "      <th>2024-06-30 00:00:00-04:00</th>\n",
       "      <td>NaN</td>\n",
       "      <td>NaN</td>\n",
       "      <td>NaN</td>\n",
       "      <td>NaN</td>\n",
       "      <td>NaN</td>\n",
       "      <td>NaN</td>\n",
       "      <td>NaN</td>\n",
       "    </tr>\n",
       "    <tr>\n",
       "      <th>2024-09-30 00:00:00-04:00</th>\n",
       "      <td>163.320007</td>\n",
       "      <td>166.149994</td>\n",
       "      <td>163.259995</td>\n",
       "      <td>165.850006</td>\n",
       "      <td>20413900.0</td>\n",
       "      <td>0.0</td>\n",
       "      <td>0.0</td>\n",
       "    </tr>\n",
       "  </tbody>\n",
       "</table>\n",
       "</div>"
      ],
      "text/plain": [
       "                                 Open        High         Low       Close  \\\n",
       "Date                                                                        \n",
       "2023-12-31 00:00:00-05:00         NaN         NaN         NaN         NaN   \n",
       "2024-03-31 00:00:00-04:00         NaN         NaN         NaN         NaN   \n",
       "2024-06-30 00:00:00-04:00         NaN         NaN         NaN         NaN   \n",
       "2024-09-30 00:00:00-04:00  163.320007  166.149994  163.259995  165.850006   \n",
       "\n",
       "                               Volume  Dividends  Stock Splits  \n",
       "Date                                                            \n",
       "2023-12-31 00:00:00-05:00         NaN        NaN           NaN  \n",
       "2024-03-31 00:00:00-04:00         NaN        NaN           NaN  \n",
       "2024-06-30 00:00:00-04:00         NaN        NaN           NaN  \n",
       "2024-09-30 00:00:00-04:00  20413900.0        0.0           0.0  "
      ]
     },
     "execution_count": 26,
     "metadata": {},
     "output_type": "execute_result"
    }
   ],
   "source": [
    "google_stock_data.asfreq('Q')"
   ]
  },
  {
   "cell_type": "markdown",
   "id": "57ed73bf-c1d6-4a5f-935e-c2d03a50458d",
   "metadata": {},
   "source": [
    "## Function to get data"
   ]
  },
  {
   "cell_type": "code",
   "execution_count": 4,
   "id": "374464a9-d21e-4457-a283-7ad25be7f601",
   "metadata": {},
   "outputs": [],
   "source": [
    "import pandas as pd"
   ]
  },
  {
   "cell_type": "code",
   "execution_count": 22,
   "id": "349fe606-d4b1-485f-9df5-60befcbc52be",
   "metadata": {},
   "outputs": [],
   "source": [
    "def get_market_data(ticker:str, period:str, field:str) -> pd.DataFrame:\n",
    "    # search data\n",
    "    company_stock = yf.Ticker(ticker)\n",
    "    # get a period of historical data \n",
    "    company_stock_data = company_stock.history(period)\n",
    "    # return selected field\n",
    "    historical_data = company_stock_data[[field]]\n",
    "    # change datetime format\n",
    "    historical_data.index = historical_data.index.date\n",
    "    return historical_data"
   ]
  },
  {
   "cell_type": "markdown",
   "id": "cb72411d-d94b-473b-9713-049cad7055ef",
   "metadata": {},
   "source": [
    "Testing with **TESLA**"
   ]
  },
  {
   "cell_type": "code",
   "execution_count": 18,
   "id": "16559ebc-4b92-4a09-807e-c68122c95692",
   "metadata": {},
   "outputs": [
    {
     "data": {
      "text/html": [
       "<div>\n",
       "<style scoped>\n",
       "    .dataframe tbody tr th:only-of-type {\n",
       "        vertical-align: middle;\n",
       "    }\n",
       "\n",
       "    .dataframe tbody tr th {\n",
       "        vertical-align: top;\n",
       "    }\n",
       "\n",
       "    .dataframe thead th {\n",
       "        text-align: right;\n",
       "    }\n",
       "</style>\n",
       "<table border=\"1\" class=\"dataframe\">\n",
       "  <thead>\n",
       "    <tr style=\"text-align: right;\">\n",
       "      <th></th>\n",
       "      <th>Close</th>\n",
       "    </tr>\n",
       "  </thead>\n",
       "  <tbody>\n",
       "    <tr>\n",
       "      <th>2022-11-07</th>\n",
       "      <td>197.080002</td>\n",
       "    </tr>\n",
       "    <tr>\n",
       "      <th>2022-11-08</th>\n",
       "      <td>191.300003</td>\n",
       "    </tr>\n",
       "    <tr>\n",
       "      <th>2022-11-09</th>\n",
       "      <td>177.589996</td>\n",
       "    </tr>\n",
       "    <tr>\n",
       "      <th>2022-11-10</th>\n",
       "      <td>190.720001</td>\n",
       "    </tr>\n",
       "    <tr>\n",
       "      <th>2022-11-11</th>\n",
       "      <td>195.970001</td>\n",
       "    </tr>\n",
       "  </tbody>\n",
       "</table>\n",
       "</div>"
      ],
      "text/plain": [
       "                 Close\n",
       "2022-11-07  197.080002\n",
       "2022-11-08  191.300003\n",
       "2022-11-09  177.589996\n",
       "2022-11-10  190.720001\n",
       "2022-11-11  195.970001"
      ]
     },
     "execution_count": 18,
     "metadata": {},
     "output_type": "execute_result"
    }
   ],
   "source": [
    "TESLA = get_market_data(ticker='TSLA', period='2y', field='Close')\n",
    "TESLA.head()"
   ]
  },
  {
   "cell_type": "code",
   "execution_count": 19,
   "id": "0dd04a68-6db6-4545-8720-18c3424f33e5",
   "metadata": {},
   "outputs": [
    {
     "data": {
      "text/html": [
       "<div>\n",
       "<style scoped>\n",
       "    .dataframe tbody tr th:only-of-type {\n",
       "        vertical-align: middle;\n",
       "    }\n",
       "\n",
       "    .dataframe tbody tr th {\n",
       "        vertical-align: top;\n",
       "    }\n",
       "\n",
       "    .dataframe thead th {\n",
       "        text-align: right;\n",
       "    }\n",
       "</style>\n",
       "<table border=\"1\" class=\"dataframe\">\n",
       "  <thead>\n",
       "    <tr style=\"text-align: right;\">\n",
       "      <th></th>\n",
       "      <th>Close</th>\n",
       "    </tr>\n",
       "  </thead>\n",
       "  <tbody>\n",
       "    <tr>\n",
       "      <th>2024-10-31</th>\n",
       "      <td>249.850006</td>\n",
       "    </tr>\n",
       "    <tr>\n",
       "      <th>2024-11-01</th>\n",
       "      <td>248.979996</td>\n",
       "    </tr>\n",
       "    <tr>\n",
       "      <th>2024-11-04</th>\n",
       "      <td>242.839996</td>\n",
       "    </tr>\n",
       "    <tr>\n",
       "      <th>2024-11-05</th>\n",
       "      <td>251.440002</td>\n",
       "    </tr>\n",
       "    <tr>\n",
       "      <th>2024-11-06</th>\n",
       "      <td>288.529999</td>\n",
       "    </tr>\n",
       "  </tbody>\n",
       "</table>\n",
       "</div>"
      ],
      "text/plain": [
       "                 Close\n",
       "2024-10-31  249.850006\n",
       "2024-11-01  248.979996\n",
       "2024-11-04  242.839996\n",
       "2024-11-05  251.440002\n",
       "2024-11-06  288.529999"
      ]
     },
     "execution_count": 19,
     "metadata": {},
     "output_type": "execute_result"
    }
   ],
   "source": [
    "TESLA.tail()"
   ]
  },
  {
   "cell_type": "code",
   "execution_count": 20,
   "id": "35b7f17b-3345-4559-b41c-e208329aff00",
   "metadata": {},
   "outputs": [],
   "source": [
    "import matplotlib.pyplot as plt"
   ]
  },
  {
   "cell_type": "code",
   "execution_count": 21,
   "id": "39a08cc2-5d00-4fcf-8500-01dde7de5845",
   "metadata": {},
   "outputs": [
    {
     "data": {
      "image/png": "[encoded data removed]",
      "text/plain": [
       "<Figure size 640x480 with 1 Axes>"
      ]
     },
     "metadata": {},
     "output_type": "display_data"
    }
   ],
   "source": [
    "TESLA.plot()\n",
    "plt.show()"
   ]
  },
  {
   "cell_type": "code",
   "execution_count": 24,
   "id": "7513b26c-8b73-4fc3-a13a-f25ad84560b3",
   "metadata": {},
   "outputs": [
    {
     "data": {
      "text/plain": [
       "Index([2022-11-07, 2022-11-08, 2022-11-09, 2022-11-10, 2022-11-11, 2022-11-14,\n",
       "       2022-11-15, 2022-11-16, 2022-11-17, 2022-11-18,\n",
       "       ...\n",
       "       2024-10-24, 2024-10-25, 2024-10-28, 2024-10-29, 2024-10-30, 2024-10-31,\n",
       "       2024-11-01, 2024-11-04, 2024-11-05, 2024-11-06],\n",
       "      dtype='object', length=503)"
      ]
     },
     "execution_count": 24,
     "metadata": {},
     "output_type": "execute_result"
    }
   ],
   "source": [
    "TESLA.index"
   ]
  }
 ],
 "metadata": {
  "kernelspec": {
   "display_name": "Python 3 (ipykernel)",
   "language": "python",
   "name": "python3"
  },
  "language_info": {
   "codemirror_mode": {
    "name": "ipython",
    "version": 3
   },
   "file_extension": ".py",
   "mimetype": "text/x-python",
   "name": "python",
   "nbconvert_exporter": "python",
   "pygments_lexer": "ipython3",
   "version": "3.9.13"
  }
 },
 "nbformat": 4,
 "nbformat_minor": 5
}
