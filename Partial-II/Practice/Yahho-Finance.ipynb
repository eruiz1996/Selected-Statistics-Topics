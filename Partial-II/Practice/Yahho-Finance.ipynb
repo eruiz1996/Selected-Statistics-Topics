{
 "cells": [
  {
   "cell_type": "markdown",
   "id": "4ccd9d0a-14ab-406b-8e31-f4c77e242324",
   "metadata": {},
   "source": [
    "# Market data\n",
    "To consult historical market data we can use [yahoo finance](https://pypi.org/project/yfinance/).\n",
    "\n",
    "Install with pip:\n",
    "\n",
    "```bash\n",
    "pip install yfinance\n",
    "```"
   ]
  },
  {
   "cell_type": "code",
   "execution_count": null,
   "id": "32594b60-0349-41c6-b5e0-f4140b8f3f46",
   "metadata": {},
   "outputs": [],
   "source": [
    "!pip install yfinance"
   ]
  },
  {
   "cell_type": "markdown",
   "id": "ac667153-256a-45bc-b947-eef366e6cbc4",
   "metadata": {},
   "source": [
    "## Google\n",
    "The `Ticker` object allows to access data of different companies by a symbol.\n",
    "\n",
    "To see the symbols go to [here](https://finance.yahoo.com/lookup/?guccounter=1&guce_referrer=aHR0cHM6Ly93d3cuZ29vZ2xlLmNvbS8&guce_referrer_sig=AQAAALuXWVw92dKctt1NEfqg9Jh8oAQEy3NeGJh-7J4-ASSygtJvtY-suqesylI3S-GoB8Kn_OybCiQWUiIsZ0hiFut75takVAQ8CH0324HasflzPjos1Eo65A_R1jRH_czAq_E03G-SeNsn2owsj7ScSK4uk0_oOy2vgswqziNJnJYm)"
   ]
  },
  {
   "cell_type": "code",
   "execution_count": 1,
   "id": "e71022fe-4e00-4691-971e-0226ab278c62",
   "metadata": {},
   "outputs": [
    {
     "data": {
      "text/plain": [
       "yfinance.Ticker object <GOOGL>"
      ]
     },
     "execution_count": 1,
     "metadata": {},
     "output_type": "execute_result"
    }
   ],
   "source": [
    "# yahoo finance module\n",
    "import yfinance as yf\n",
    "\n",
    "# define ticker\n",
    "ticker_symbol = \"GOOGL\"\n",
    "# search the GOOGLE stock data\n",
    "google_stock = yf.Ticker(ticker_symbol)\n",
    "google_stock"
   ]
  },
  {
   "cell_type": "code",
   "execution_count": 3,
   "id": "a99a0d2b-1135-4074-9146-edcb7e160f29",
   "metadata": {},
   "outputs": [
    {
     "data": {
      "text/plain": [
       "4"
      ]
     },
     "execution_count": 3,
     "metadata": {},
     "output_type": "execute_result"
    }
   ],
   "source": [
    "3 + 3\n",
    "2 + 2"
   ]
  },
  {
   "cell_type": "code",
   "execution_count": 4,
   "id": "a496a2cc-80b9-49a7-9120-22c16f321902",
   "metadata": {},
   "outputs": [
    {
     "name": "stdout",
     "output_type": "stream",
     "text": [
      "                                 Open        High         Low       Close  \\\n",
      "Date                                                                        \n",
      "2023-11-08 00:00:00-05:00  130.646497  131.883440  130.456964  131.514343   \n",
      "2023-11-09 00:00:00-05:00  131.634057  132.222596  129.748726  129.918304   \n",
      "2023-11-10 00:00:00-05:00  129.778657  132.471985  129.090359  132.262497   \n",
      "2023-11-13 00:00:00-05:00  131.454486  132.262483  130.925796  131.763718   \n",
      "2023-11-14 00:00:00-05:00  133.858547  135.364812  132.990701  133.289948   \n",
      "\n",
      "                             Volume  Dividends  Stock Splits  \n",
      "Date                                                          \n",
      "2023-11-08 00:00:00-05:00  26425800        0.0           0.0  \n",
      "2023-11-09 00:00:00-05:00  23747800        0.0           0.0  \n",
      "2023-11-10 00:00:00-05:00  26913300        0.0           0.0  \n",
      "2023-11-13 00:00:00-05:00  18324800        0.0           0.0  \n",
      "2023-11-14 00:00:00-05:00  32395200        0.0           0.0  \n"
     ]
    }
   ],
   "source": [
    "# get historical market data\n",
    "google_stock_data = google_stock.history(period=\"1y\")\n",
    "print(google_stock_data.head())"
   ]
  },
  {
   "cell_type": "code",
   "execution_count": 5,
   "id": "ad029e8f-03a4-4fbe-a4c6-5307b81a2def",
   "metadata": {},
   "outputs": [
    {
     "data": {
      "text/plain": [
       "Index(['Open', 'High', 'Low', 'Close', 'Volume', 'Dividends', 'Stock Splits'], dtype='object')"
      ]
     },
     "execution_count": 5,
     "metadata": {},
     "output_type": "execute_result"
    }
   ],
   "source": [
    "google_stock_data.columns"
   ]
  },
  {
   "cell_type": "code",
   "execution_count": 6,
   "id": "91228702-f4d0-47d6-87aa-9beef056df18",
   "metadata": {},
   "outputs": [
    {
     "data": {
      "text/plain": [
       "DatetimeIndex(['2023-11-08 00:00:00-05:00', '2023-11-09 00:00:00-05:00',\n",
       "               '2023-11-10 00:00:00-05:00', '2023-11-13 00:00:00-05:00',\n",
       "               '2023-11-14 00:00:00-05:00', '2023-11-15 00:00:00-05:00',\n",
       "               '2023-11-16 00:00:00-05:00', '2023-11-17 00:00:00-05:00',\n",
       "               '2023-11-20 00:00:00-05:00', '2023-11-21 00:00:00-05:00',\n",
       "               ...\n",
       "               '2024-10-25 00:00:00-04:00', '2024-10-28 00:00:00-04:00',\n",
       "               '2024-10-29 00:00:00-04:00', '2024-10-30 00:00:00-04:00',\n",
       "               '2024-10-31 00:00:00-04:00', '2024-11-01 00:00:00-04:00',\n",
       "               '2024-11-04 00:00:00-05:00', '2024-11-05 00:00:00-05:00',\n",
       "               '2024-11-06 00:00:00-05:00', '2024-11-07 00:00:00-05:00'],\n",
       "              dtype='datetime64[ns, America/New_York]', name='Date', length=252, freq=None)"
      ]
     },
     "execution_count": 6,
     "metadata": {},
     "output_type": "execute_result"
    }
   ],
   "source": [
    "google_stock_data.index"
   ]
  },
  {
   "cell_type": "code",
   "execution_count": 9,
   "id": "d06d2931-9c7c-49a4-95f3-e0b38f4452d7",
   "metadata": {},
   "outputs": [
    {
     "data": {
      "text/plain": [
       "Index(['Date', 'Open', 'High', 'Low', 'Close', 'Volume', 'Dividends',\n",
       "       'Stock Splits'],\n",
       "      dtype='object')"
      ]
     },
     "execution_count": 9,
     "metadata": {},
     "output_type": "execute_result"
    }
   ],
   "source": [
    "google_stock_data.reset_index().columns"
   ]
  },
  {
   "cell_type": "markdown",
   "id": "57f6e70d-10b2-46cd-9169-4a1fb32b5afe",
   "metadata": {},
   "source": [
    "**Note**: You can change the `period` parameter (e.g., `\"1d\"`, `\"5d\"`, `\"1mo\"`, `\"1y\"`)"
   ]
  },
  {
   "cell_type": "markdown",
   "id": "661ef198-abf0-4a8e-98c7-22100d2c3878",
   "metadata": {},
   "source": [
    "## Change frequency"
   ]
  },
  {
   "cell_type": "code",
   "execution_count": 10,
   "id": "0690deea-b9ed-4c6a-ac5c-63883a3f4a29",
   "metadata": {},
   "outputs": [
    {
     "data": {
      "text/html": [
       "<div>\n",
       "<style scoped>\n",
       "    .dataframe tbody tr th:only-of-type {\n",
       "        vertical-align: middle;\n",
       "    }\n",
       "\n",
       "    .dataframe tbody tr th {\n",
       "        vertical-align: top;\n",
       "    }\n",
       "\n",
       "    .dataframe thead th {\n",
       "        text-align: right;\n",
       "    }\n",
       "</style>\n",
       "<table border=\"1\" class=\"dataframe\">\n",
       "  <thead>\n",
       "    <tr style=\"text-align: right;\">\n",
       "      <th></th>\n",
       "      <th>Open</th>\n",
       "      <th>High</th>\n",
       "      <th>Low</th>\n",
       "      <th>Close</th>\n",
       "      <th>Volume</th>\n",
       "      <th>Dividends</th>\n",
       "      <th>Stock Splits</th>\n",
       "    </tr>\n",
       "    <tr>\n",
       "      <th>Date</th>\n",
       "      <th></th>\n",
       "      <th></th>\n",
       "      <th></th>\n",
       "      <th></th>\n",
       "      <th></th>\n",
       "      <th></th>\n",
       "      <th></th>\n",
       "    </tr>\n",
       "  </thead>\n",
       "  <tbody>\n",
       "    <tr>\n",
       "      <th>2023-12-31 00:00:00-05:00</th>\n",
       "      <td>NaN</td>\n",
       "      <td>NaN</td>\n",
       "      <td>NaN</td>\n",
       "      <td>NaN</td>\n",
       "      <td>NaN</td>\n",
       "      <td>NaN</td>\n",
       "      <td>NaN</td>\n",
       "    </tr>\n",
       "    <tr>\n",
       "      <th>2024-03-31 00:00:00-04:00</th>\n",
       "      <td>NaN</td>\n",
       "      <td>NaN</td>\n",
       "      <td>NaN</td>\n",
       "      <td>NaN</td>\n",
       "      <td>NaN</td>\n",
       "      <td>NaN</td>\n",
       "      <td>NaN</td>\n",
       "    </tr>\n",
       "    <tr>\n",
       "      <th>2024-06-30 00:00:00-04:00</th>\n",
       "      <td>NaN</td>\n",
       "      <td>NaN</td>\n",
       "      <td>NaN</td>\n",
       "      <td>NaN</td>\n",
       "      <td>NaN</td>\n",
       "      <td>NaN</td>\n",
       "      <td>NaN</td>\n",
       "    </tr>\n",
       "    <tr>\n",
       "      <th>2024-09-30 00:00:00-04:00</th>\n",
       "      <td>163.320007</td>\n",
       "      <td>166.149994</td>\n",
       "      <td>163.259995</td>\n",
       "      <td>165.850006</td>\n",
       "      <td>20413900.0</td>\n",
       "      <td>0.0</td>\n",
       "      <td>0.0</td>\n",
       "    </tr>\n",
       "  </tbody>\n",
       "</table>\n",
       "</div>"
      ],
      "text/plain": [
       "                                 Open        High         Low       Close  \\\n",
       "Date                                                                        \n",
       "2023-12-31 00:00:00-05:00         NaN         NaN         NaN         NaN   \n",
       "2024-03-31 00:00:00-04:00         NaN         NaN         NaN         NaN   \n",
       "2024-06-30 00:00:00-04:00         NaN         NaN         NaN         NaN   \n",
       "2024-09-30 00:00:00-04:00  163.320007  166.149994  163.259995  165.850006   \n",
       "\n",
       "                               Volume  Dividends  Stock Splits  \n",
       "Date                                                            \n",
       "2023-12-31 00:00:00-05:00         NaN        NaN           NaN  \n",
       "2024-03-31 00:00:00-04:00         NaN        NaN           NaN  \n",
       "2024-06-30 00:00:00-04:00         NaN        NaN           NaN  \n",
       "2024-09-30 00:00:00-04:00  20413900.0        0.0           0.0  "
      ]
     },
     "execution_count": 10,
     "metadata": {},
     "output_type": "execute_result"
    }
   ],
   "source": [
    "google_stock_data.asfreq('Q')"
   ]
  },
  {
   "cell_type": "markdown",
   "id": "57ed73bf-c1d6-4a5f-935e-c2d03a50458d",
   "metadata": {},
   "source": [
    "## Function to get data"
   ]
  },
  {
   "cell_type": "code",
   "execution_count": 11,
   "id": "374464a9-d21e-4457-a283-7ad25be7f601",
   "metadata": {},
   "outputs": [],
   "source": [
    "import pandas as pd"
   ]
  },
  {
   "cell_type": "code",
   "execution_count": 12,
   "id": "349fe606-d4b1-485f-9df5-60befcbc52be",
   "metadata": {},
   "outputs": [],
   "source": [
    "def get_market_data(ticker:str, period:str, field:str) -> pd.DataFrame:\n",
    "    # search data\n",
    "    company_stock = yf.Ticker(ticker)\n",
    "    # get a period of historical data \n",
    "    company_stock_data = company_stock.history(period)\n",
    "    # return selected field\n",
    "    historical_data = company_stock_data[[field]]\n",
    "    # change datetime format\n",
    "    historical_data.index = historical_data.index.date\n",
    "    return historical_data"
   ]
  },
  {
   "cell_type": "markdown",
   "id": "cb72411d-d94b-473b-9713-049cad7055ef",
   "metadata": {},
   "source": [
    "Testing with **TESLA**"
   ]
  },
  {
   "cell_type": "code",
   "execution_count": 13,
   "id": "16559ebc-4b92-4a09-807e-c68122c95692",
   "metadata": {},
   "outputs": [
    {
     "data": {
      "text/html": [
       "<div>\n",
       "<style scoped>\n",
       "    .dataframe tbody tr th:only-of-type {\n",
       "        vertical-align: middle;\n",
       "    }\n",
       "\n",
       "    .dataframe tbody tr th {\n",
       "        vertical-align: top;\n",
       "    }\n",
       "\n",
       "    .dataframe thead th {\n",
       "        text-align: right;\n",
       "    }\n",
       "</style>\n",
       "<table border=\"1\" class=\"dataframe\">\n",
       "  <thead>\n",
       "    <tr style=\"text-align: right;\">\n",
       "      <th></th>\n",
       "      <th>Close</th>\n",
       "    </tr>\n",
       "  </thead>\n",
       "  <tbody>\n",
       "    <tr>\n",
       "      <th>2022-11-08</th>\n",
       "      <td>191.300003</td>\n",
       "    </tr>\n",
       "    <tr>\n",
       "      <th>2022-11-09</th>\n",
       "      <td>177.589996</td>\n",
       "    </tr>\n",
       "    <tr>\n",
       "      <th>2022-11-10</th>\n",
       "      <td>190.720001</td>\n",
       "    </tr>\n",
       "    <tr>\n",
       "      <th>2022-11-11</th>\n",
       "      <td>195.970001</td>\n",
       "    </tr>\n",
       "    <tr>\n",
       "      <th>2022-11-14</th>\n",
       "      <td>190.949997</td>\n",
       "    </tr>\n",
       "  </tbody>\n",
       "</table>\n",
       "</div>"
      ],
      "text/plain": [
       "                 Close\n",
       "2022-11-08  191.300003\n",
       "2022-11-09  177.589996\n",
       "2022-11-10  190.720001\n",
       "2022-11-11  195.970001\n",
       "2022-11-14  190.949997"
      ]
     },
     "execution_count": 13,
     "metadata": {},
     "output_type": "execute_result"
    }
   ],
   "source": [
    "TESLA = get_market_data(ticker='TSLA', period='2y', field='Close')\n",
    "TESLA.head()"
   ]
  },
  {
   "cell_type": "code",
   "execution_count": 14,
   "id": "0dd04a68-6db6-4545-8720-18c3424f33e5",
   "metadata": {},
   "outputs": [
    {
     "data": {
      "text/html": [
       "<div>\n",
       "<style scoped>\n",
       "    .dataframe tbody tr th:only-of-type {\n",
       "        vertical-align: middle;\n",
       "    }\n",
       "\n",
       "    .dataframe tbody tr th {\n",
       "        vertical-align: top;\n",
       "    }\n",
       "\n",
       "    .dataframe thead th {\n",
       "        text-align: right;\n",
       "    }\n",
       "</style>\n",
       "<table border=\"1\" class=\"dataframe\">\n",
       "  <thead>\n",
       "    <tr style=\"text-align: right;\">\n",
       "      <th></th>\n",
       "      <th>Close</th>\n",
       "    </tr>\n",
       "  </thead>\n",
       "  <tbody>\n",
       "    <tr>\n",
       "      <th>2024-11-01</th>\n",
       "      <td>248.979996</td>\n",
       "    </tr>\n",
       "    <tr>\n",
       "      <th>2024-11-04</th>\n",
       "      <td>242.839996</td>\n",
       "    </tr>\n",
       "    <tr>\n",
       "      <th>2024-11-05</th>\n",
       "      <td>251.440002</td>\n",
       "    </tr>\n",
       "    <tr>\n",
       "      <th>2024-11-06</th>\n",
       "      <td>288.529999</td>\n",
       "    </tr>\n",
       "    <tr>\n",
       "      <th>2024-11-07</th>\n",
       "      <td>296.910004</td>\n",
       "    </tr>\n",
       "  </tbody>\n",
       "</table>\n",
       "</div>"
      ],
      "text/plain": [
       "                 Close\n",
       "2024-11-01  248.979996\n",
       "2024-11-04  242.839996\n",
       "2024-11-05  251.440002\n",
       "2024-11-06  288.529999\n",
       "2024-11-07  296.910004"
      ]
     },
     "execution_count": 14,
     "metadata": {},
     "output_type": "execute_result"
    }
   ],
   "source": [
    "TESLA.tail()"
   ]
  },
  {
   "cell_type": "code",
   "execution_count": 15,
   "id": "35b7f17b-3345-4559-b41c-e208329aff00",
   "metadata": {},
   "outputs": [],
   "source": [
    "import matplotlib.pyplot as plt"
   ]
  },
  {
   "cell_type": "code",
   "execution_count": 16,
   "id": "39a08cc2-5d00-4fcf-8500-01dde7de5845",
   "metadata": {},
   "outputs": [
    {
     "data": {
      "image/png": "[encoded data removed]",
      "text/plain": [
       "<Figure size 640x480 with 1 Axes>"
      ]
     },
     "metadata": {},
     "output_type": "display_data"
    }
   ],
   "source": [
    "TESLA.plot()\n",
    "plt.show()"
   ]
  }
 ],
 "metadata": {
  "kernelspec": {
   "display_name": "Python 3 (ipykernel)",
   "language": "python",
   "name": "python3"
  },
  "language_info": {
   "codemirror_mode": {
    "name": "ipython",
    "version": 3
   },
   "file_extension": ".py",
   "mimetype": "text/x-python",
   "name": "python",
   "nbconvert_exporter": "python",
   "pygments_lexer": "ipython3",
   "version": "3.9.13"
  }
 },
 "nbformat": 4,
 "nbformat_minor": 5
}
