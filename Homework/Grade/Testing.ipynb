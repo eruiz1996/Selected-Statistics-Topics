{
 "cells": [
  {
   "cell_type": "code",
   "execution_count": 1,
   "id": "9f102922-032b-4a0a-8b4f-7bdaf2e60857",
   "metadata": {},
   "outputs": [],
   "source": [
    "import os\n",
    "import pandas as pd"
   ]
  },
  {
   "cell_type": "code",
   "execution_count": 2,
   "id": "2d60e7e1-21b6-4bd4-b077-38610631f929",
   "metadata": {},
   "outputs": [
    {
     "data": {
      "text/plain": [
       "'C:\\\\Users\\\\ed_22\\\\Documents\\\\Selected-Statistics-Topics\\\\lista.xlsx'"
      ]
     },
     "execution_count": 2,
     "metadata": {},
     "output_type": "execute_result"
    }
   ],
   "source": [
    "read_dir = r'C:\\Users\\ed_22\\Documents\\Selected-Statistics-Topics'\n",
    "file_name = 'lista.xlsx'\n",
    "read_path = os.path.join(read_dir, file_name)\n",
    "read_path"
   ]
  },
  {
   "cell_type": "code",
   "execution_count": 3,
   "id": "5f30a57d-fa90-4d3c-9410-a56e1f0aea2b",
   "metadata": {},
   "outputs": [
    {
     "data": {
      "text/html": [
       "<div>\n",
       "<style scoped>\n",
       "    .dataframe tbody tr th:only-of-type {\n",
       "        vertical-align: middle;\n",
       "    }\n",
       "\n",
       "    .dataframe tbody tr th {\n",
       "        vertical-align: top;\n",
       "    }\n",
       "\n",
       "    .dataframe thead th {\n",
       "        text-align: right;\n",
       "    }\n",
       "</style>\n",
       "<table border=\"1\" class=\"dataframe\">\n",
       "  <thead>\n",
       "    <tr style=\"text-align: right;\">\n",
       "      <th></th>\n",
       "      <th>expediente</th>\n",
       "      <th>nombre</th>\n",
       "      <th>github</th>\n",
       "    </tr>\n",
       "  </thead>\n",
       "  <tbody>\n",
       "    <tr>\n",
       "      <th>0</th>\n",
       "      <td>307928</td>\n",
       "      <td>Márquez Gómez Gabriel Armando</td>\n",
       "      <td>https://github.com/Sarsarot</td>\n",
       "    </tr>\n",
       "    <tr>\n",
       "      <th>1</th>\n",
       "      <td>276825</td>\n",
       "      <td>Márquez Zúñiga Ariadna Alejandra</td>\n",
       "      <td>https://github.com/AlejandraMarquez</td>\n",
       "    </tr>\n",
       "    <tr>\n",
       "      <th>2</th>\n",
       "      <td>307943</td>\n",
       "      <td>Ahyeser Froylan Torres Serrano</td>\n",
       "      <td>https://github.com/ahyeser</td>\n",
       "    </tr>\n",
       "    <tr>\n",
       "      <th>3</th>\n",
       "      <td>300706</td>\n",
       "      <td>Alvarez Montemayor Sergio Alberto</td>\n",
       "      <td>https://github.com/SergioAlvz17</td>\n",
       "    </tr>\n",
       "    <tr>\n",
       "      <th>4</th>\n",
       "      <td>309276</td>\n",
       "      <td>Castañón Oropeza Fernanda</td>\n",
       "      <td>https://github.com/ferc0213</td>\n",
       "    </tr>\n",
       "  </tbody>\n",
       "</table>\n",
       "</div>"
      ],
      "text/plain": [
       "   expediente                             nombre  \\\n",
       "0      307928     Márquez Gómez Gabriel Armando    \n",
       "1      276825   Márquez Zúñiga Ariadna Alejandra   \n",
       "2      307943     Ahyeser Froylan Torres Serrano   \n",
       "3      300706  Alvarez Montemayor Sergio Alberto   \n",
       "4      309276          Castañón Oropeza Fernanda   \n",
       "\n",
       "                                github  \n",
       "0          https://github.com/Sarsarot  \n",
       "1  https://github.com/AlejandraMarquez  \n",
       "2           https://github.com/ahyeser  \n",
       "3      https://github.com/SergioAlvz17  \n",
       "4          https://github.com/ferc0213  "
      ]
     },
     "execution_count": 3,
     "metadata": {},
     "output_type": "execute_result"
    }
   ],
   "source": [
    "lista = pd.read_excel(read_path)\n",
    "lista.head()"
   ]
  },
  {
   "cell_type": "code",
   "execution_count": 4,
   "id": "61042e1d-a36a-48ce-9400-813988c95e87",
   "metadata": {},
   "outputs": [],
   "source": [
    "import random"
   ]
  },
  {
   "cell_type": "code",
   "execution_count": 11,
   "id": "60ec5e6e-5c3f-4643-9d2e-d546ddc6939d",
   "metadata": {},
   "outputs": [
    {
     "data": {
      "text/plain": [
       "3"
      ]
     },
     "execution_count": 11,
     "metadata": {},
     "output_type": "execute_result"
    }
   ],
   "source": [
    "random.choice([1,2,3])"
   ]
  },
  {
   "cell_type": "code",
   "execution_count": 14,
   "id": "38b6af5b-a7ba-4f8a-81f6-042767770293",
   "metadata": {},
   "outputs": [
    {
     "data": {
      "text/plain": [
       "25"
      ]
     },
     "execution_count": 14,
     "metadata": {},
     "output_type": "execute_result"
    }
   ],
   "source": [
    "random.choice(list(range(45)))"
   ]
  },
  {
   "cell_type": "code",
   "execution_count": 15,
   "id": "396dfe54-71db-4f0f-b457-995847a82b0f",
   "metadata": {},
   "outputs": [
    {
     "data": {
      "text/plain": [
       "'https://github.com/AlejandraLopezNu'"
      ]
     },
     "execution_count": 15,
     "metadata": {},
     "output_type": "execute_result"
    }
   ],
   "source": [
    "lista.loc[25, 'github']"
   ]
  },
  {
   "cell_type": "markdown",
   "id": "c71350db-c1b2-44c3-86bf-cb431a6177d0",
   "metadata": {},
   "source": [
    "# Function"
   ]
  },
  {
   "cell_type": "code",
   "execution_count": 2,
   "id": "e4b8273e-8e2a-43b9-b790-d4c39a9244b0",
   "metadata": {},
   "outputs": [],
   "source": [
    "import os\n",
    "import pandas as pd\n",
    "import random"
   ]
  },
  {
   "cell_type": "code",
   "execution_count": 3,
   "id": "627fd1fd-1a0d-4359-a016-76b4e3b9d5f4",
   "metadata": {},
   "outputs": [
    {
     "data": {
      "text/plain": [
       "'C:\\\\Users\\\\ed_22\\\\Documents\\\\Selected-Statistics-Topics\\\\lista.xlsx'"
      ]
     },
     "execution_count": 3,
     "metadata": {},
     "output_type": "execute_result"
    }
   ],
   "source": [
    "read_dir = r'C:\\Users\\ed_22\\Documents\\Selected-Statistics-Topics'\n",
    "file_name = 'lista.xlsx'\n",
    "read_path = os.path.join(read_dir, file_name)\n",
    "read_path"
   ]
  },
  {
   "cell_type": "code",
   "execution_count": 4,
   "id": "a783fe66-ace5-4ccf-896e-cc079bc286bb",
   "metadata": {},
   "outputs": [
    {
     "data": {
      "text/html": [
       "<div>\n",
       "<style scoped>\n",
       "    .dataframe tbody tr th:only-of-type {\n",
       "        vertical-align: middle;\n",
       "    }\n",
       "\n",
       "    .dataframe tbody tr th {\n",
       "        vertical-align: top;\n",
       "    }\n",
       "\n",
       "    .dataframe thead th {\n",
       "        text-align: right;\n",
       "    }\n",
       "</style>\n",
       "<table border=\"1\" class=\"dataframe\">\n",
       "  <thead>\n",
       "    <tr style=\"text-align: right;\">\n",
       "      <th></th>\n",
       "      <th>expediente</th>\n",
       "      <th>nombre</th>\n",
       "      <th>github</th>\n",
       "    </tr>\n",
       "  </thead>\n",
       "  <tbody>\n",
       "    <tr>\n",
       "      <th>0</th>\n",
       "      <td>307928</td>\n",
       "      <td>Márquez Gómez Gabriel Armando</td>\n",
       "      <td>https://github.com/Sarsarot</td>\n",
       "    </tr>\n",
       "    <tr>\n",
       "      <th>1</th>\n",
       "      <td>276825</td>\n",
       "      <td>Márquez Zúñiga Ariadna Alejandra</td>\n",
       "      <td>https://github.com/AlejandraMarquez</td>\n",
       "    </tr>\n",
       "    <tr>\n",
       "      <th>2</th>\n",
       "      <td>307943</td>\n",
       "      <td>Ahyeser Froylan Torres Serrano</td>\n",
       "      <td>https://github.com/ahyeser</td>\n",
       "    </tr>\n",
       "    <tr>\n",
       "      <th>3</th>\n",
       "      <td>300706</td>\n",
       "      <td>Alvarez Montemayor Sergio Alberto</td>\n",
       "      <td>https://github.com/SergioAlvz17</td>\n",
       "    </tr>\n",
       "    <tr>\n",
       "      <th>4</th>\n",
       "      <td>309276</td>\n",
       "      <td>Castañón Oropeza Fernanda</td>\n",
       "      <td>https://github.com/ferc0213</td>\n",
       "    </tr>\n",
       "  </tbody>\n",
       "</table>\n",
       "</div>"
      ],
      "text/plain": [
       "   expediente                             nombre  \\\n",
       "0      307928     Márquez Gómez Gabriel Armando    \n",
       "1      276825   Márquez Zúñiga Ariadna Alejandra   \n",
       "2      307943     Ahyeser Froylan Torres Serrano   \n",
       "3      300706  Alvarez Montemayor Sergio Alberto   \n",
       "4      309276          Castañón Oropeza Fernanda   \n",
       "\n",
       "                                github  \n",
       "0          https://github.com/Sarsarot  \n",
       "1  https://github.com/AlejandraMarquez  \n",
       "2           https://github.com/ahyeser  \n",
       "3      https://github.com/SergioAlvz17  \n",
       "4          https://github.com/ferc0213  "
      ]
     },
     "execution_count": 4,
     "metadata": {},
     "output_type": "execute_result"
    }
   ],
   "source": [
    "lista = pd.read_excel(read_path)\n",
    "lista.head()"
   ]
  },
  {
   "cell_type": "code",
   "execution_count": 5,
   "id": "50d6ae88-6244-4ef8-b235-87f41a780804",
   "metadata": {},
   "outputs": [],
   "source": [
    "def get_repository(lista):\n",
    "    aleatorio = random.choice(list(range(lista.shape[0])))\n",
    "    repository = lista.loc[aleatorio, 'github']\n",
    "    return repository"
   ]
  },
  {
   "cell_type": "code",
   "execution_count": 6,
   "id": "0c5bb5d4-216d-4367-aac7-576277818664",
   "metadata": {},
   "outputs": [
    {
     "data": {
      "text/plain": [
       "'https://github.com/pauloher'"
      ]
     },
     "execution_count": 6,
     "metadata": {},
     "output_type": "execute_result"
    }
   ],
   "source": [
    "get_repository(lista)"
   ]
  }
 ],
 "metadata": {
  "kernelspec": {
   "display_name": "Python 3 (ipykernel)",
   "language": "python",
   "name": "python3"
  },
  "language_info": {
   "codemirror_mode": {
    "name": "ipython",
    "version": 3
   },
   "file_extension": ".py",
   "mimetype": "text/x-python",
   "name": "python",
   "nbconvert_exporter": "python",
   "pygments_lexer": "ipython3",
   "version": "3.9.13"
  }
 },
 "nbformat": 4,
 "nbformat_minor": 5
}
